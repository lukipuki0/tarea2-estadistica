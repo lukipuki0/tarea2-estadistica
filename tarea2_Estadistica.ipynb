{
  "cells": [
    {
      "cell_type": "markdown",
      "metadata": {
        "id": "view-in-github",
        "colab_type": "text"
      },
      "source": [
        "<a href=\"https://colab.research.google.com/github/lukipuki0/tarea2-estadistica/blob/main/tarea2_Estadistica.ipynb\" target=\"_parent\"><img src=\"https://colab.research.google.com/assets/colab-badge.svg\" alt=\"Open In Colab\"/></a>"
      ]
    },
    {
      "cell_type": "markdown",
      "metadata": {
        "id": "Q7x-WVbE7xHP"
      },
      "source": [
        "pregunta 1"
      ]
    },
    {
      "cell_type": "markdown",
      "metadata": {
        "id": "YQja5uJB7xHQ"
      },
      "source": [
        "#1.a"
      ]
    },
    {
      "cell_type": "code",
      "execution_count": null,
      "metadata": {
        "vscode": {
          "languageId": "r"
        },
        "id": "CzSECKDl7xHQ",
        "outputId": "096f64ca-0a2c-4ff6-895a-5d91be4df815"
      },
      "outputs": [
        {
          "data": {
            "image/png": "[encoded data removed]",
            "text/plain": [
              "Plot with title \"Histograma de 1000 muestras\""
            ]
          },
          "metadata": {
            "image/png": {
              "height": 420,
              "width": 420
            }
          },
          "output_type": "display_data"
        }
      ],
      "source": [
        "media <- 84\n",
        "desviacion <- 2.96\n",
        "\n",
        "# Tamaños de muestra\n",
        "tamaños <- c(10, 50, 100, 1000)\n",
        "\n",
        "# Generación de muestras y creación de histogramas\n",
        "par(mfrow = c(2, 2)) # Configuración para mostrar 4 gráficos en una ventana\n",
        "\n",
        "for (n in tamaños) {\n",
        "  muestra <- rnorm(n, mean = media, sd = desviacion)\n",
        "  hist(muestra, main = paste(\"Histograma de\", n, \"muestras\"),\n",
        "       xlab = \"Estatura (cm)\", col = \"lightblue\", border = \"black\",\n",
        "       probability = TRUE)\n",
        "  lines(density(muestra), col = \"darkblue\") # Agrega la densidad de la muestra\n",
        "}\n"
      ]
    },
    {
      "cell_type": "markdown",
      "metadata": {
        "id": "a7ZuCY5E7xHR"
      },
      "source": [
        "#1.b"
      ]
    },
    {
      "cell_type": "code",
      "execution_count": null,
      "metadata": {
        "vscode": {
          "languageId": "r"
        },
        "id": "yKspi7Hu7xHR",
        "outputId": "3d54471c-9dbe-4496-c061-9582931758b3"
      },
      "outputs": [
        {
          "name": "stdout",
          "output_type": "stream",
          "text": [
            "Para 10 muestras: Promedio = 84.07713 , Desviación estándar = 2.991849 \n",
            "Para 50 muestras: Promedio = 84.4439 , Desviación estándar = 3.058637 \n",
            "Para 100 muestras: Promedio = 84.03672 , Desviación estándar = 2.847279 \n",
            "Para 1000 muestras: Promedio = 83.84191 , Desviación estándar = 2.918367 \n"
          ]
        }
      ],
      "source": [
        "# Calcular promedio y desviación estándar para cada muestra\n",
        "for (n in tamaños) {\n",
        "  muestra <- rnorm(n, mean = media, sd = desviacion)\n",
        "  promedio <- mean(muestra)\n",
        "  desviacion_est <- sd(muestra)\n",
        "  cat(\"Para\", n, \"muestras: Promedio =\", promedio, \", Desviación estándar =\", desviacion_est, \"\\n\")\n",
        "}\n"
      ]
    },
    {
      "cell_type": "markdown",
      "metadata": {
        "id": "m9oz-QuP7xHR"
      },
      "source": [
        "Con una muestra de tamaño pequeño, el promedio y la desviación estándar presentan mayor variabilidad respecto a los valores teóricos (84 y 2.96). Esta variabilidad es esperable, ya que con tamaños de muestra reducidos, las estimaciones tienden a ser menos precisas.\n",
        "\n",
        "50 muestras\n",
        "\n",
        "A medida que el tamaño de la muestra aumenta, el promedio se aproxima más a 84. Sin embargo, la desviación estándar sigue mostrando una ligera variación.\n",
        "\n",
        "100 muestras\n",
        "\n",
        "con 100 muestras, las estimaciones se estabilizan aún más, acercándose a los valores teóricos. La desviación estándar también se ajusta, aunque sigue teniendo una ligera diferencia respecto al valor teórico de 2.96.\n",
        "\n",
        "1000 muestras\n",
        "\n",
        "Con 1000 muestras, el promedio y la desviación estándar se acercan considerablemente a los valores teóricos (84 y 2.96), lo cual confirma la tendencia de convergencia observada.Nos llamó la atención la desviación estándar, que si bien indica una aproximación, no representa una convergencia perfecta. Si quisiéramos una mayor precisión, podríamos aumentar aún más el tamaño de la muestra.En conclusión, este resultado es consistente con el hecho de que muestras más grandes tienden a capturar mejor las características de la población, resultando en estimaciones más precisas."
      ]
    },
    {
      "cell_type": "markdown",
      "metadata": {
        "id": "_y_6nz_k7xHS"
      },
      "source": [
        "#1.c\n",
        "\n",
        "El médico le mencionó a la madre de Carlitos que su estatura está sobre el percentil 90, lo que significa que Carlitos es más alto que el 90% de los niños de su misma edad en la población de referencia (niños de 8 años en Valparaíso)."
      ]
    },
    {
      "cell_type": "markdown",
      "metadata": {
        "id": "YGFWe0SA7xHS"
      },
      "source": [
        "pregunta 2"
      ]
    },
    {
      "cell_type": "markdown",
      "metadata": {
        "id": "Ab6G2eCf7xHS"
      },
      "source": [
        "#2.a"
      ]
    },
    {
      "cell_type": "code",
      "execution_count": null,
      "metadata": {
        "vscode": {
          "languageId": "r"
        },
        "id": "SqI0Jw6X7xHS",
        "outputId": "d1f62d69-516c-4ee9-d14c-11bb5da4920c"
      },
      "outputs": [
        {
          "name": "stdout",
          "output_type": "stream",
          "text": [
            "Cantidad de caras en 10 lanzamientos: 7 \n"
          ]
        }
      ],
      "source": [
        "# Parámetros para el experimento de Bernoulli\n",
        "lanzamientos <- 10\n",
        "probabilidad_cara <- 0.5\n",
        "\n",
        "# Simulación de 10 lanzamientos\n",
        "resultado <- rbinom(1, size = lanzamientos, prob = probabilidad_cara)\n",
        "cat(\"Cantidad de caras en 10 lanzamientos:\", resultado, \"\\n\")\n"
      ]
    },
    {
      "cell_type": "markdown",
      "metadata": {
        "id": "7W7traFb7xHS"
      },
      "source": [
        "#2.b"
      ]
    },
    {
      "cell_type": "code",
      "execution_count": null,
      "metadata": {
        "vscode": {
          "languageId": "r"
        },
        "id": "AS0HvU627xHS",
        "outputId": "a2f2b926-6fa2-405a-fddb-022e972740e6"
      },
      "outputs": [
        {
          "data": {
            "image/png": "[encoded data removed]",
            "text/plain": [
              "Plot with title \"Histograma para m = 1000\""
            ]
          },
          "metadata": {
            "image/png": {
              "height": 420,
              "width": 420
            }
          },
          "output_type": "display_data"
        }
      ],
      "source": [
        "# Valores de m\n",
        "repeticiones <- c(5, 50, 100, 1000)\n",
        "\n",
        "# Crear histogramas para cada repetición\n",
        "par(mfrow = c(2, 2)) # Configuración para mostrar 4 gráficos en una ventana\n",
        "\n",
        "for (m in repeticiones) {\n",
        "  resultados <- rbinom(m, size = lanzamientos, prob = probabilidad_cara)\n",
        "  hist(resultados, main = paste(\"Histograma para m =\", m),\n",
        "       xlab = \"Número de caras\", col = \"lightgreen\", border = \"black\",\n",
        "       probability = TRUE)\n",
        "  lines(density(resultados), col = \"darkgreen\") # Agrega la densidad\n",
        "}\n"
      ]
    },
    {
      "cell_type": "markdown",
      "metadata": {
        "id": "L7BrlmK57xHS"
      },
      "source": [
        "#2.c"
      ]
    },
    {
      "cell_type": "code",
      "execution_count": null,
      "metadata": {
        "vscode": {
          "languageId": "r"
        },
        "id": "J_weKqhJ7xHT",
        "outputId": "5179d2b7-59a5-4c06-e7b7-372c598694d4"
      },
      "outputs": [
        {
          "data": {
            "image/png": "[encoded data removed]",
            "text/plain": [
              "Plot with title \"Histograma de caras en 100 lanzamientos (1000 repeticiones)\""
            ]
          },
          "metadata": {
            "image/png": {
              "height": 420,
              "width": 420
            }
          },
          "output_type": "display_data"
        }
      ],
      "source": [
        "# Parámetros para 100 lanzamientos y 1000 repeticiones\n",
        "n_lanzamientos <- 100\n",
        "repeticiones_binomial <- 1000\n",
        "\n",
        "# Simulación y creación del histograma\n",
        "resultados_100 <- rbinom(repeticiones_binomial, size = n_lanzamientos, prob = probabilidad_cara)\n",
        "hist(resultados_100, main = \"Histograma de caras en 100 lanzamientos (1000 repeticiones)\",\n",
        "     xlab = \"Número de caras\", col = \"lightcoral\", border = \"black\",\n",
        "     probability = TRUE)\n",
        "lines(density(resultados_100), col = \"darkred\")\n"
      ]
    },
    {
      "cell_type": "markdown",
      "metadata": {
        "id": "0yngU1TE7xHT"
      },
      "source": [
        "#2.d\n"
      ]
    },
    {
      "cell_type": "code",
      "execution_count": null,
      "metadata": {
        "vscode": {
          "languageId": "r"
        },
        "id": "KGL3CzJ07xHT",
        "outputId": "201d3873-6834-4df9-cf24-67e19b7875a4"
      },
      "outputs": [
        {
          "name": "stdout",
          "output_type": "stream",
          "text": [
            "P(X <= 50): 0.5397946 \n"
          ]
        }
      ],
      "source": [
        "# Cálculo de la probabilidad P(X <= 50) en el caso de 100 lanzamientos.\n",
        "probabilidad <- pbinom(50, size = n_lanzamientos, prob = probabilidad_cara)\n",
        "cat(\"P(X <= 50):\", probabilidad, \"\\n\")\n"
      ]
    },
    {
      "cell_type": "markdown",
      "metadata": {
        "id": "rIn6DBxE7xHT"
      },
      "source": [
        "#2.e"
      ]
    },
    {
      "cell_type": "code",
      "execution_count": null,
      "metadata": {
        "vscode": {
          "languageId": "r"
        },
        "id": "jX0Q3lfW7xHT",
        "outputId": "44f4c0b1-57c8-4731-c053-726ec527001f"
      },
      "outputs": [
        {
          "data": {
            "image/png": "[encoded data removed]",
            "text/plain": [
              "Plot with title \"Distribución Binomial con Aproximación Normal\""
            ]
          },
          "metadata": {
            "image/png": {
              "height": 420,
              "width": 420
            }
          },
          "output_type": "display_data"
        }
      ],
      "source": [
        "# Parámetros de la distribución normal\n",
        "media_normal <- n_lanzamientos * probabilidad_cara\n",
        "desviacion_normal <- sqrt(n_lanzamientos * probabilidad_cara * (1 - probabilidad_cara))\n",
        "\n",
        "# Histograma de la distribución binomial\n",
        "hist(resultados_100, main = \"Distribución Binomial con Aproximación Normal\",\n",
        "     xlab = \"Número de caras\", col = \"lightblue\", border = \"black\", probability = TRUE)\n",
        "lines(density(resultados_100), col = \"darkblue\")\n",
        "\n",
        "# Superposición de la distribución normal\n",
        "curve(dnorm(x, mean = media_normal, sd = desviacion_normal),\n",
        "      col = \"red\", lwd = 2, add = TRUE)\n"
      ]
    },
    {
      "cell_type": "markdown",
      "metadata": {
        "id": "9wBcQ2W67xHT"
      },
      "source": [
        "#2.f"
      ]
    },
    {
      "cell_type": "code",
      "execution_count": null,
      "metadata": {
        "vscode": {
          "languageId": "r"
        },
        "id": "PK5j5Uk37xHT",
        "outputId": "37da96d1-0fa3-41cf-e0ba-b83391e66f75"
      },
      "outputs": [
        {
          "name": "stdout",
          "output_type": "stream",
          "text": [
            "P(X <= 50.5) (con corrección de continuidad): 0.5398278 \n",
            "Comparación con P(X <= 50) (distribución binomial): 0.5397946 \n"
          ]
        }
      ],
      "source": [
        "# Cálculo de P(X <= 50) para la distribución normal con corrección de continuidad\n",
        "probabilidad_normal_yates <- pnorm(50.5, mean = media_normal, sd = desviacion_normal)\n",
        "cat(\"P(X <= 50.5) (con corrección de continuidad):\", probabilidad_normal_yates, \"\\n\")\n",
        "\n",
        "# Comparación con el valor de la binomial original\n",
        "cat(\"Comparación con P(X <= 50) (distribución binomial):\", probabilidad, \"\\n\")\n"
      ]
    },
    {
      "cell_type": "markdown",
      "metadata": {
        "id": "0mCWVfVw7xHT"
      },
      "source": [
        "Los valores obtenidos con la correccion y sin la correccion son muy parecidos, esto nos quiere decir que el aplicar yates en este caso es apropiado ya que estamos transformando la naturaleza discreta a un valor continuo más preciso."
      ]
    },
    {
      "cell_type": "markdown",
      "metadata": {
        "id": "F8z1EZRg7xHT"
      },
      "source": [
        "#pregunta 3"
      ]
    },
    {
      "cell_type": "markdown",
      "metadata": {
        "id": "cjEgYv_k7xHT"
      },
      "source": [
        "#3.1"
      ]
    },
    {
      "cell_type": "code",
      "execution_count": null,
      "metadata": {
        "vscode": {
          "languageId": "r"
        },
        "id": "jMMmCOvb7xHT",
        "outputId": "4bab265e-c6c8-4142-932d-fddf062e782f"
      },
      "outputs": [
        {
          "data": {
            "image/png": "[encoded data removed]",
            "text/plain": [
              "Plot with title \"Distribución de Poisson de Llamadas por Hora\""
            ]
          },
          "metadata": {
            "image/png": {
              "height": 420,
              "width": 420
            }
          },
          "output_type": "display_data"
        }
      ],
      "source": [
        "# Parametro de la distribucion de Poisson\n",
        "lambda <- 15\n",
        "\n",
        "# Generacion de 1000 valores de la distribucion de Poisson\n",
        "llamadas <- rpois(1000, lambda = lambda)\n",
        "\n",
        "# Histograma de la distribución de Poisson\n",
        "hist(llamadas, main = \"Distribución de Poisson de Llamadas por Hora\",\n",
        "     xlab = \"Número de llamadas\", col = \"lightblue\", border = \"black\",\n",
        "     probability = TRUE)\n",
        "lines(density(llamadas), col = \"darkblue\")\n"
      ]
    },
    {
      "cell_type": "markdown",
      "metadata": {
        "id": "qh4s7_a_7xHT"
      },
      "source": [
        "#3.2"
      ]
    },
    {
      "cell_type": "markdown",
      "metadata": {
        "id": "adcI9TLY7xHT"
      },
      "source": [
        "Para aproximar la distribucion de Poisson con una normal, usamos la media y desviacion estandar de la Poisson μ=λ y σ = √λ"
      ]
    },
    {
      "cell_type": "code",
      "execution_count": null,
      "metadata": {
        "vscode": {
          "languageId": "r"
        },
        "id": "PExfylMD7xHT",
        "outputId": "e754f5b1-e1a7-4183-e3c6-9dee0c09f790"
      },
      "outputs": [
        {
          "name": "stdout",
          "output_type": "stream",
          "text": [
            "P(X >= 17) (exacto): 0.3358768 \n",
            "P(X >= 17) (aproximacion normal con correccion): 0.3492677 \n"
          ]
        }
      ],
      "source": [
        "# Calculo exacto de P(X >= 17) para la distribucion de Poisson\n",
        "prob_exacta <- 1 - ppois(16, lambda = lambda)\n",
        "cat(\"P(X >= 17) (exacto):\", prob_exacta, \"\\n\")\n",
        "\n",
        "# Parametros de la distribucion normal aproximada\n",
        "media_normal <- lambda\n",
        "desviacion_normal <- sqrt(lambda)\n",
        "\n",
        "# Calculo de P(X >= 17) con la distribucion normal (correccion de continuidad)\n",
        "prob_aprox <- 1 - pnorm(16.5, mean = media_normal, sd = desviacion_normal)\n",
        "cat(\"P(X >= 17) (aproximacion normal con correccion):\", prob_aprox, \"\\n\")\n"
      ]
    },
    {
      "cell_type": "markdown",
      "metadata": {
        "id": "7QDDLgH97xHU"
      },
      "source": [
        "#3.3"
      ]
    },
    {
      "cell_type": "code",
      "execution_count": null,
      "metadata": {
        "vscode": {
          "languageId": "r"
        },
        "id": "S8kA5pyw7xHU",
        "outputId": "d6e22441-5413-4198-b227-379b2659ad8a"
      },
      "outputs": [
        {
          "data": {
            "image/png": "[encoded data removed]",
            "text/plain": [
              "Plot with title \"Comparación de Distribuciones Poisson y Normal\""
            ]
          },
          "metadata": {
            "image/png": {
              "height": 420,
              "width": 420
            }
          },
          "output_type": "display_data"
        }
      ],
      "source": [
        "# Histograma de la distribución de Poisson\n",
        "hist(llamadas, main = \"Comparación de Distribuciones Poisson y Normal\",\n",
        "     xlab = \"Número de llamadas\", col = \"lightgreen\", border = \"black\",\n",
        "     probability = TRUE)\n",
        "lines(density(llamadas), col = \"darkgreen\")\n",
        "\n",
        "# Superposición de la distribución normal\n",
        "curve(dnorm(x, mean = media_normal, sd = desviacion_normal),\n",
        "      col = \"red\", lwd = 2, add = TRUE)\n"
      ]
    },
    {
      "cell_type": "markdown",
      "metadata": {
        "id": "4jFgkKCP7xHU"
      },
      "source": [
        "#pregunta 4"
      ]
    },
    {
      "cell_type": "markdown",
      "metadata": {
        "id": "a1uCBIXr7xHV"
      },
      "source": [
        "#4.1"
      ]
    },
    {
      "cell_type": "markdown",
      "metadata": {
        "id": "UW30UtSq7xHV"
      },
      "source": [
        "La distribucion geometrica modela el numero de intentos hasta obtener el primer exito en experimentos de Bernoulli repetidos.\n",
        "La probabilidad de que el primer exito ocurra en el intento X=k es:P(X=k)=(1-p)^* p\n",
        "\n",
        "donde:\n",
        "p es la probabilidad de exito en cada intento,\n",
        "k es el numero de intentos hasta el primer exito."
      ]
    },
    {
      "cell_type": "markdown",
      "metadata": {
        "id": "-GL4SBQK7xHV"
      },
      "source": [
        "#4.2"
      ]
    },
    {
      "cell_type": "markdown",
      "metadata": {
        "id": "8uYJZDhN7xHV"
      },
      "source": [
        "La distribucion geometrica representa fenomenos como el numero de intentos necesarios para obtener una cara en el lanzamiento de una moneda (p=0.5), o el numero de llamadas necesarias hasta que un cliente conteste (con probabilidad p de exito en cada llamada)."
      ]
    },
    {
      "cell_type": "markdown",
      "metadata": {
        "id": "5aHQxuon7xHV"
      },
      "source": [
        "#4.3"
      ]
    },
    {
      "cell_type": "code",
      "execution_count": null,
      "metadata": {
        "vscode": {
          "languageId": "r"
        },
        "id": "gUEXLKZq7xHV",
        "outputId": "8751b32a-1c86-4bc6-c793-a93818465026"
      },
      "outputs": [
        {
          "data": {
            "image/png": "[encoded data removed]",
            "text/plain": [
              "Plot with title \"Distribución Geométrica (p = 0.01 )\""
            ]
          },
          "metadata": {
            "image/png": {
              "height": 420,
              "width": 420
            }
          },
          "output_type": "display_data"
        }
      ],
      "source": [
        "# Valores de probabilidad de éxito\n",
        "probabilidades <- c(0.6, 0.4, 0.1, 0.01)\n",
        "\n",
        "# Configuración para mostrar 4 gráficos en una ventana\n",
        "par(mfrow = c(2, 2))\n",
        "\n",
        "# Generación y graficación para cada valor de p\n",
        "for (p in probabilidades) {\n",
        "  # Generar 100 valores con distribución geométrica\n",
        "  valores_geom <- rgeom(100, prob = p) + 1  # rgeom cuenta desde 0, sumamos 1 para contar intentos\n",
        "\n",
        "  # Histograma\n",
        "  hist(valores_geom, main = paste(\"Distribución Geométrica (p =\", p, \")\"),\n",
        "       xlab = \"Número de intentos hasta el éxito\", col = \"lightblue\", border = \"black\",\n",
        "       probability = TRUE)\n",
        "}\n"
      ]
    },
    {
      "cell_type": "markdown",
      "metadata": {
        "id": "PXeB_79o7xHV"
      },
      "source": [
        "p = 0.4\n",
        "\n",
        "- La distribución se vuelve ligeramente más dispersa, aunque los éxitos aún tienden a ocurrir en los primeros pocos intentos. Sin embargo, es menos frecuente que se logre en el primer intento en comparación con p=0.6.\n",
        "\n",
        "p = 0.1\n",
        "\n",
        "- El número de intentos hasta el primer éxito aumenta notablemente, mostrando una mayor dispersión. La probabilidad de obtener un éxito rápidamente disminuye, lo que se traduce en un aumento en el número de intentos necesarios.\n",
        "\n",
        "p = 0.01\n",
        "\n",
        "- En este caso se observa una gran dispersión en la distribución, donde son necesarios muchos intentos para alcanzar el primer éxito. Este gráfico muestra que, con probabilidades tan bajas, los éxitos son eventos muy poco frecuentes y se necesita un alto número de intentos."
      ]
    }
  ],
  "metadata": {
    "kernelspec": {
      "display_name": "R",
      "language": "R",
      "name": "ir"
    },
    "language_info": {
      "codemirror_mode": "r",
      "file_extension": ".r",
      "mimetype": "text/x-r-source",
      "name": "R",
      "pygments_lexer": "r",
      "version": "4.4.1"
    },
    "colab": {
      "provenance": [],
      "include_colab_link": true
    }
  },
  "nbformat": 4,
  "nbformat_minor": 0
}